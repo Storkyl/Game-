{
 "cells": [
  {
   "cell_type": "code",
   "execution_count": 6,
   "id": "ce6ca4ff-0406-4631-b67b-4e4ac0864f4e",
   "metadata": {},
   "outputs": [
    {
     "name": "stdout",
     "output_type": "stream",
     "text": [
      "How many rolls(1-6): 4\n",
      "6\n",
      "6\n",
      "2\n",
      "5\n",
      "Want to roll more? yes or no.yes\n",
      "How many rolls(1-6): 3\n",
      "2\n",
      "6\n",
      "1\n",
      "Want to roll more? yes or no.yes\n",
      "How many rolls(1-6): 2\n",
      "5\n",
      "5\n",
      "Want to roll more? yes or no.no\n",
      "You rolled 3  times.\n",
      "You rolled 9  dice.\n",
      "Individual Number Odds:\n",
      "One: 1 Two: 2 Three: 0 Four: 0 Five: 3 Six: 3\n"
     ]
    }
   ],
   "source": [
    "import random\n",
    "dicevalues = [0,0,0,0,0,0]\n",
    "rollerstats = [0,0]\n",
    "def diceroll():\n",
    "    return random.randint(1,6)\n",
    "while True:\n",
    "    Rolls = int(input(\"How many rolls(1-6): \"))\n",
    "    rollerstats[1] += Rolls\n",
    "    i = 0\n",
    "    while i < Rolls:\n",
    "        a=(diceroll())\n",
    "        print(a)\n",
    "        a-=1\n",
    "        dicevalues[a]+=1\n",
    "        i+=1\n",
    "    play_again = input(\"Want to roll more? yes or no.\").lower()\n",
    "    rollerstats[0]+=1\n",
    "    if play_again !=\"yes\":\n",
    "        print(\"You rolled\",rollerstats[0], \" times.\")\n",
    "        print(\"You rolled\",rollerstats[1],\" dice.\")\n",
    "        print(\"Individual number stats:\")\n",
    "        print(\"One:\", dicevalues[0],\"Two:\",dicevalues[1],\"Three:\",dicevalues[2],\"Four:\",dicevalues[3],\"Five:\",dicevalues[4],\"Six:\",dicevalues[5])\n",
    "        break"
   ]
  },
  {
   "cell_type": "code",
   "execution_count": null,
   "id": "e346a13a-90df-4b68-93a4-31b9f2a82e16",
   "metadata": {},
   "outputs": [],
   "source": []
  }
 ],
 "metadata": {
  "kernelspec": {
   "display_name": "Python 3 (ipykernel)",
   "language": "python",
   "name": "python3"
  },
  "language_info": {
   "codemirror_mode": {
    "name": "ipython",
    "version": 3
   },
   "file_extension": ".py",
   "mimetype": "text/x-python",
   "name": "python",
   "nbconvert_exporter": "python",
   "pygments_lexer": "ipython3",
   "version": "3.11.5"
  }
 },
 "nbformat": 4,
 "nbformat_minor": 5
}
