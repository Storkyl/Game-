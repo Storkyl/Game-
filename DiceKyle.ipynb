{
 "cells": [
  {
   "cell_type": "code",
   "execution_count": 29,
   "id": "ce6ca4ff-0406-4631-b67b-4e4ac0864f4e",
   "metadata": {},
   "outputs": [
    {
     "name": "stdin",
     "output_type": "stream",
     "text": [
      "How many rolls:  12\n"
     ]
    },
    {
     "name": "stdout",
     "output_type": "stream",
     "text": [
      "1\n",
      "3\n",
      "2\n",
      "1\n",
      "1\n",
      "5\n",
      "1\n",
      "3\n",
      "3\n",
      "2\n",
      "2\n",
      "2\n"
     ]
    },
    {
     "name": "stdin",
     "output_type": "stream",
     "text": [
      "Want to roll more? yes or no. yes\n",
      "How many rolls:  2\n"
     ]
    },
    {
     "name": "stdout",
     "output_type": "stream",
     "text": [
      "6\n",
      "4\n"
     ]
    },
    {
     "name": "stdin",
     "output_type": "stream",
     "text": [
      "Want to roll more? yes or no. no\n"
     ]
    },
    {
     "name": "stdout",
     "output_type": "stream",
     "text": [
      "You played: 2\n",
      "Rolled 14 many dice.\n",
      "You rolled each number this many times\n",
      "One: 4 Two: 4 Three: 3 Four: 1 Five: 1 Six: 1\n"
     ]
    }
   ],
   "source": [
    "import random\n",
    "dicevalues = [0,0,0,0,0,0]\n",
    "rollerstats = [0,0]\n",
    "def diceroll():\n",
    "    return random.randint(1,6)\n",
    "while True:\n",
    "    Rolls = int(input(\"How many rolls: \"))\n",
    "    rollerstats[1] += Rolls\n",
    "    i = 0\n",
    "    while i < Rolls:\n",
    "        a=(diceroll())\n",
    "        print(a)\n",
    "        a-=1\n",
    "        dicevalues[a]+=1\n",
    "        i+=1\n",
    "    play_again = input(\"Want to roll more? yes or no.\").lower()\n",
    "    rollerstats[0]+=1\n",
    "    if play_again !=\"yes\":\n",
    "        print(\"You played:\",rollerstats[0])\n",
    "        print(\"Rolled\",rollerstats[1],\"many dice.\")\n",
    "        print(\"You rolled each number this many times\")\n",
    "        print(\"One:\", dicevalues[0],\"Two:\",dicevalues[1],\"Three:\",dicevalues[2],\"Four:\",dicevalues[3],\"Five:\",dicevalues[4],\"Six:\",dicevalues[5])\n",
    "        break"
   ]
  },
  {
   "cell_type": "code",
   "execution_count": null,
   "id": "e346a13a-90df-4b68-93a4-31b9f2a82e16",
   "metadata": {},
   "outputs": [],
   "source": []
  }
 ],
 "metadata": {
  "kernelspec": {
   "display_name": "Python 3 (ipykernel)",
   "language": "python",
   "name": "python3"
  },
  "language_info": {
   "codemirror_mode": {
    "name": "ipython",
    "version": 3
   },
   "file_extension": ".py",
   "mimetype": "text/x-python",
   "name": "python",
   "nbconvert_exporter": "python",
   "pygments_lexer": "ipython3",
   "version": "3.11.5"
  }
 },
 "nbformat": 4,
 "nbformat_minor": 5
}
